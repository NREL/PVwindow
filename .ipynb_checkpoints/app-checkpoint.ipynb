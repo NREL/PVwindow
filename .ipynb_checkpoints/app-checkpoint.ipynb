{
 "cells": [
  {
   "cell_type": "code",
   "execution_count": 111,
   "id": "097d6073",
   "metadata": {},
   "outputs": [
    {
     "name": "stdout",
     "output_type": "stream",
     "text": [
      "[{'State': 'California', 'Number of Solar Plants': 289, 'Installed Capacity (MW)': 4395, 'Average MW Per Plant': 15.3, 'Generation (GWh)': 10826}, {'State': 'Arizona', 'Number of Solar Plants': 48, 'Installed Capacity (MW)': 1078, 'Average MW Per Plant': 22.5, 'Generation (GWh)': 2550}, {'State': 'Nevada', 'Number of Solar Plants': 11, 'Installed Capacity (MW)': 238, 'Average MW Per Plant': 21.6, 'Generation (GWh)': 557}, {'State': 'New Mexico', 'Number of Solar Plants': 33, 'Installed Capacity (MW)': 261, 'Average MW Per Plant': 7.9, 'Generation (GWh)': 590}, {'State': 'Colorado', 'Number of Solar Plants': 20, 'Installed Capacity (MW)': 118, 'Average MW Per Plant': 5.9, 'Generation (GWh)': 235}, {'State': 'Texas', 'Number of Solar Plants': 12, 'Installed Capacity (MW)': 187, 'Average MW Per Plant': 15.6, 'Generation (GWh)': 354}, {'State': 'North Carolina', 'Number of Solar Plants': 148, 'Installed Capacity (MW)': 669, 'Average MW Per Plant': 4.5, 'Generation (GWh)': 1162}, {'State': 'New York', 'Number of Solar Plants': 13, 'Installed Capacity (MW)': 53, 'Average MW Per Plant': 4.1, 'Generation (GWh)': 84}]\n"
     ]
    }
   ],
   "source": [
    "from jupyter_dash import JupyterDash\n",
    "from dash import html, dcc, Input, Output, State\n",
    "from dash import dash_table, callback_context\n",
    "#from dash.dependencies import Input, Output\n",
    "#import dash_html_components as html\n",
    "#import dash_core_components as dcc\n",
    "import dash_bootstrap_components as dbc\n",
    "#from dash.dash_table.Format import Group\n",
    "#import dash_table\n",
    "import pandas as pd\n",
    "#import plotly.graph_objects as go\n",
    "#import plotly.express as px\n",
    "from collections import OrderedDict\n",
    "\n",
    "df = pd.read_csv('https://raw.githubusercontent.com/plotly/datasets/master/solar.csv')\n",
    "\n",
    "print(df.to_dict('records'))\n",
    "#print([{\"name\": i, \"id\": i} for i in df.columns])\n",
    "\n",
    "#JupyterDash.infer_jupyter_proxy_config()"
   ]
  },
  {
   "cell_type": "code",
   "execution_count": 173,
   "id": "497319a1",
   "metadata": {},
   "outputs": [
    {
     "data": {
      "text/html": [
       "\n",
       "        <iframe\n",
       "            width=\"100%\"\n",
       "            height=\"650\"\n",
       "            src=\"http://127.0.0.1:8050/\"\n",
       "            frameborder=\"0\"\n",
       "            allowfullscreen\n",
       "        ></iframe>\n",
       "        "
      ],
      "text/plain": [
       "<IPython.lib.display.IFrame at 0x14dcc2d60>"
      ]
     },
     "metadata": {},
     "output_type": "display_data"
    },
    {
     "data": {
      "text/plain": [
       "{'Material': {'options': [{'label': 'Sunny', 'value': 'Sunny'},\n",
       "   {'label': 'Snowy', 'value': 'Snowy'},\n",
       "   {'label': 'Rainy', 'value': 'Rainy'}]},\n",
       " 'PV': {'options': [{'label': 'NYC', 'value': 'NYC'},\n",
       "   {'label': 'Montreal', 'value': 'Montreal'},\n",
       "   {'label': 'Miami', 'value': 'Miami'}]}}"
      ]
     },
     "metadata": {},
     "output_type": "display_data"
    },
    {
     "data": {
      "text/plain": [
       "{'Material': {'options': [{'label': 'Sunny', 'value': 'Sunny'},\n",
       "   {'label': 'Snowy', 'value': 'Snowy'},\n",
       "   {'label': 'Rainy', 'value': 'Rainy'}]},\n",
       " 'PV': {'options': [{'label': 'NYC', 'value': 'NYC'},\n",
       "   {'label': 'Montreal', 'value': 'Montreal'},\n",
       "   {'label': 'Miami', 'value': 'Miami'}]}}"
      ]
     },
     "metadata": {},
     "output_type": "display_data"
    }
   ],
   "source": [
    "#app = Dash(external_stylesheets=[dbc.themes.BOOTSTRAP])\n",
    "app = JupyterDash(__name__,external_stylesheets=[dbc.themes.JOURNAL])\n",
    "#app = JupyterDash(__name__,external_stylesheets=[dbc.themes.SANDSTONE])\n",
    "#app = JupyterDash(__name__)\n",
    "\n",
    "# Create server variable with Flask server object for use with gunicorn\n",
    "server = app.server\n",
    "\n",
    "#ART_fig = \n",
    "\n",
    "df = pd.DataFrame(OrderedDict([\n",
    "    ('climate', ['Sunny', 'Snowy', 'Sunny', 'Rainy']),\n",
    "    ('temperature', [13, 43, 50, 30]),\n",
    "    ('city', ['NYC', 'Montreal', 'Miami', 'NYC'])\n",
    "]))\n",
    "\n",
    "app.layout = html.Div(\n",
    "    [\n",
    "    html.Div(\n",
    "        children=[\n",
    "             html.H4('Window Configuration'),#,class_name=\"me-md-1\"\n",
    "                 dbc.Button('+ Layer',color=\"primary\",id='button_add',style={'width':'33.3%'},n_clicks=0),\n",
    "             dbc.ButtonGroup([\n",
    "                 dbc.Button('↑ Layer',outline=True,color=\"primary\",id='button_up',style={'width':'33.4%'},n_clicks=0),\n",
    "                 dbc.Button('↓ Layer',outline=True,color=\"primary\",id='button_down',style={'width':'33.3%'},n_clicks=0),\n",
    "             ],\n",
    "             style={'width':'66.7%'}\n",
    "             ),\n",
    "             html.Br(),\n",
    "             dbc.Button('Solve',id='button_solve',style={'width':'100%'},color='secondary',n_clicks=0),\n",
    "             dash_table.DataTable(\n",
    "                 data=[],\n",
    "                 columns = [{'name':'Material','id':'Material','presentation': 'dropdown'},\n",
    "                            {'name':'Thickness [nm]','id':'Thickness [nm]','presentation': 'input'},\n",
    "                            {'name':'PV','id':'PV','presentation': 'dropdown'}],\n",
    "                 id = 'layer_table',\n",
    "                 editable=True,\n",
    "                 row_selectable='single',\n",
    "                 row_deletable=True,\n",
    "                 \n",
    "                 dropdown={\n",
    "                    'Material': {\n",
    "                        'options': [\n",
    "                            {'label': i, 'value': i}\n",
    "                            for i in df['climate'].unique()\n",
    "                        ]\n",
    "                    },\n",
    "                    'PV': {\n",
    "                         'options': [\n",
    "                            {'label': i, 'value': i}\n",
    "                            for i in df['city'].unique()\n",
    "                        ]\n",
    "                    }\n",
    "                },\n",
    "                #workaround so bootstrap formatting works with dropdowns... see https://github.com/plotly/dash-table/issues/221\n",
    "                css=[{\"selector\": \".Select-menu-outer\", \"rule\": \"display: block !important\"}],\n",
    "                 \n",
    "             ),\n",
    "            \n",
    "        ],\n",
    "        style = {'float':'left','width':'45%','border-style':'solid'},\n",
    "    ),\n",
    "    \n",
    "    html.Div(\n",
    "        children=[\n",
    "            dbc.Tabs(\n",
    "            [\n",
    "                dbc.Tab(label=\"A, R, T\", tab_id=\"tab-1\",tab_style={\"marginLeft\": \"auto\"}),\n",
    "                dbc.Tab(label=\"Metrics\", tab_id=\"tab-2\"),\n",
    "            ],\n",
    "            id=\"tabs\",\n",
    "            active_tab=\"tab-1\",\n",
    "        ),\n",
    "        ],\n",
    "        style = {'float':'left','width':'55%'},\n",
    "    )\n",
    "    \n",
    "    ]\n",
    ")\n",
    "\n",
    "\n",
    "@app.callback(\n",
    "    Output('layer_table', 'data'),\n",
    "    Input('button_add', 'n_clicks'),\n",
    "    Input('button_up','n_clicks'),\n",
    "    Input('button_down','n_clicks'),\n",
    "    Input('button_solve','n_clicks'),\n",
    "    State('layer_table', 'data'),\n",
    "    State('layer_table', 'columns'),\n",
    "    State('layer_table', 'dropdown'),\n",
    "    State('layer_table', 'selected_rows'))\n",
    "def add_row(n_clicks_add, n_clicks_up, n_clicks_down, n_clicks_solve, data, columns, ddown, srows):\n",
    "    ctx = callback_context\n",
    "    button_id = ctx.triggered[0]['prop_id'].split('.')[0]\n",
    "    #print('button id: ' + str(button_id))\n",
    "    display(ddown)\n",
    "    #x = {c['id']: '' for c in columns}\n",
    "    #print('x=' + str(x))\n",
    "    \n",
    "    if n_clicks_add > 0:\n",
    "        if button_id == 'button_add':\n",
    "            data.append({c['id']: '' for c in columns})\n",
    "    \n",
    "    if n_clicks_up > 0:\n",
    "        if button_id == 'button_up':\n",
    "            print('moving row up')\n",
    "    #print(data)\n",
    "    return data\n",
    "\n",
    "\n",
    "\n",
    "\n",
    "if __name__ == '__main__':\n",
    "    app.run_server(debug=True,mode='inline')\n",
    "\n",
    "#app.run_server(debug=True,mode = 'inline')"
   ]
  },
  {
   "cell_type": "code",
   "execution_count": null,
   "id": "f9e41a6e-3076-4439-9813-8a23f02b7e51",
   "metadata": {},
   "outputs": [],
   "source": []
  }
 ],
 "metadata": {
  "kernelspec": {
   "display_name": "Python 3 (ipykernel)",
   "language": "python",
   "name": "python3"
  },
  "language_info": {
   "codemirror_mode": {
    "name": "ipython",
    "version": 3
   },
   "file_extension": ".py",
   "mimetype": "text/x-python",
   "name": "python",
   "nbconvert_exporter": "python",
   "pygments_lexer": "ipython3",
   "version": "3.8.11"
  }
 },
 "nbformat": 4,
 "nbformat_minor": 5
}
