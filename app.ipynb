{
 "cells": [
  {
   "cell_type": "code",
   "execution_count": 1,
   "id": "097d6073",
   "metadata": {},
   "outputs": [
    {
     "name": "stdout",
     "output_type": "stream",
     "text": [
      "[{'State': 'California', 'Number of Solar Plants': 289, 'Installed Capacity (MW)': 4395, 'Average MW Per Plant': 15.3, 'Generation (GWh)': 10826}, {'State': 'Arizona', 'Number of Solar Plants': 48, 'Installed Capacity (MW)': 1078, 'Average MW Per Plant': 22.5, 'Generation (GWh)': 2550}, {'State': 'Nevada', 'Number of Solar Plants': 11, 'Installed Capacity (MW)': 238, 'Average MW Per Plant': 21.6, 'Generation (GWh)': 557}, {'State': 'New Mexico', 'Number of Solar Plants': 33, 'Installed Capacity (MW)': 261, 'Average MW Per Plant': 7.9, 'Generation (GWh)': 590}, {'State': 'Colorado', 'Number of Solar Plants': 20, 'Installed Capacity (MW)': 118, 'Average MW Per Plant': 5.9, 'Generation (GWh)': 235}, {'State': 'Texas', 'Number of Solar Plants': 12, 'Installed Capacity (MW)': 187, 'Average MW Per Plant': 15.6, 'Generation (GWh)': 354}, {'State': 'North Carolina', 'Number of Solar Plants': 148, 'Installed Capacity (MW)': 669, 'Average MW Per Plant': 4.5, 'Generation (GWh)': 1162}, {'State': 'New York', 'Number of Solar Plants': 13, 'Installed Capacity (MW)': 53, 'Average MW Per Plant': 4.1, 'Generation (GWh)': 84}]\n"
     ]
    }
   ],
   "source": [
    "from jupyter_dash import JupyterDash\n",
    "from dash import html, dcc, Input, Output, State\n",
    "from dash import dash_table\n",
    "#from dash.dependencies import Input, Output\n",
    "#import dash_html_components as html\n",
    "#import dash_core_components as dcc\n",
    "import dash_bootstrap_components as dbc\n",
    "#from dash.dash_table.Format import Group\n",
    "#import dash_table\n",
    "import pandas as pd\n",
    "#import plotly.graph_objects as go\n",
    "#import plotly.express as px\n",
    "\n",
    "df = pd.read_csv('https://raw.githubusercontent.com/plotly/datasets/master/solar.csv')\n",
    "\n",
    "print(df.to_dict('records'))\n",
    "#print([{\"name\": i, \"id\": i} for i in df.columns])\n",
    "\n",
    "#JupyterDash.infer_jupyter_proxy_config()"
   ]
  },
  {
   "cell_type": "code",
   "execution_count": 18,
   "id": "497319a1",
   "metadata": {},
   "outputs": [
    {
     "data": {
      "text/html": [
       "\n",
       "        <iframe\n",
       "            width=\"100%\"\n",
       "            height=\"650\"\n",
       "            src=\"http://127.0.0.1:8050/\"\n",
       "            frameborder=\"0\"\n",
       "            allowfullscreen\n",
       "        ></iframe>\n",
       "        "
      ],
      "text/plain": [
       "<IPython.lib.display.IFrame at 0x14c731b80>"
      ]
     },
     "metadata": {},
     "output_type": "display_data"
    },
    {
     "name": "stdout",
     "output_type": "stream",
     "text": [
      "+ Layer clicked!\n",
      "\u001b[1;31m---------------------------------------------------------------------------\u001b[0m\n",
      "\u001b[1;31mTypeError\u001b[0m                                 Traceback (most recent call last)\n",
      "\u001b[1;32m/var/folders/b4/v40b4jqj347156hq4c_cfhj40000gn/T/ipykernel_79297/3497394748.py\u001b[0m in \u001b[0;36madd_row\u001b[1;34m(\n",
      "    n_clicks=None,\n",
      "    rows=[],\n",
      "    columns=[{'id': 'Material', 'name': 'Material'}, {'id': 'Thickness [nm]', 'name': 'Thickness [nm]'}, {'id': 'Photovoltaic', 'name': 'Photovoltaic'}]\n",
      ")\u001b[0m\n",
      "\u001b[0;32m     54\u001b[0m \u001b[1;32mdef\u001b[0m \u001b[0madd_row\u001b[0m\u001b[1;33m(\u001b[0m\u001b[0mn_clicks\u001b[0m\u001b[1;33m,\u001b[0m \u001b[0mrows\u001b[0m\u001b[1;33m,\u001b[0m \u001b[0mcolumns\u001b[0m\u001b[1;33m)\u001b[0m\u001b[1;33m:\u001b[0m\u001b[1;33m\u001b[0m\u001b[1;33m\u001b[0m\u001b[0m\n",
      "\u001b[0;32m     55\u001b[0m     \u001b[0mprint\u001b[0m\u001b[1;33m(\u001b[0m\u001b[1;34m'+ Layer clicked!'\u001b[0m\u001b[1;33m)\u001b[0m\u001b[1;33m\u001b[0m\u001b[1;33m\u001b[0m\u001b[0m\n",
      "\u001b[1;32m---> 56\u001b[1;33m     \u001b[1;32mif\u001b[0m \u001b[0mn_clicks\u001b[0m \u001b[1;33m>\u001b[0m \u001b[1;36m0\u001b[0m\u001b[1;33m:\u001b[0m\u001b[1;33m\u001b[0m\u001b[1;33m\u001b[0m\u001b[0m\n",
      "\u001b[0m        \u001b[0;36mn_clicks\u001b[0m \u001b[1;34m= None\u001b[0m\n",
      "\u001b[0;32m     57\u001b[0m         \u001b[0mrows\u001b[0m\u001b[1;33m.\u001b[0m\u001b[0mappend\u001b[0m\u001b[1;33m(\u001b[0m\u001b[1;33m{\u001b[0m\u001b[0mc\u001b[0m\u001b[1;33m[\u001b[0m\u001b[1;34m'id'\u001b[0m\u001b[1;33m]\u001b[0m\u001b[1;33m:\u001b[0m \u001b[1;34m''\u001b[0m \u001b[1;32mfor\u001b[0m \u001b[0mc\u001b[0m \u001b[1;32min\u001b[0m \u001b[0mcolumns\u001b[0m\u001b[1;33m}\u001b[0m\u001b[1;33m)\u001b[0m\u001b[1;33m\u001b[0m\u001b[1;33m\u001b[0m\u001b[0m\n",
      "\u001b[0;32m     58\u001b[0m     \u001b[1;32mreturn\u001b[0m \u001b[0mrows\u001b[0m\u001b[1;33m\u001b[0m\u001b[1;33m\u001b[0m\u001b[0m\n",
      "\n",
      "\u001b[1;31mTypeError\u001b[0m: '>' not supported between instances of 'NoneType' and 'int'\n",
      "\n",
      "+ Layer clicked!\n"
     ]
    }
   ],
   "source": [
    "#app = Dash(external_stylesheets=[dbc.themes.BOOTSTRAP])\n",
    "app = JupyterDash(__name__,external_stylesheets=[dbc.themes.FLATLY])\n",
    "#app = JupyterDash(__name__)\n",
    "\n",
    "# Create server variable with Flask server object for use with gunicorn\n",
    "server = app.server\n",
    "\n",
    "#ART_fig = \n",
    "\n",
    "app.layout = html.Div(\n",
    "    [\n",
    "    html.Div(\n",
    "        children=[\n",
    "             html.H4('Window Configuration'),\n",
    "             dbc.Button('+ Layer',id='button_add',className=\"me-md-1\"),\n",
    "             dbc.Button('↑ Layer',id='button_up',className=\"me-md-1\"),\n",
    "             dbc.Button('↓ Layer',id='button_down',className=\"me-md-1\"),\n",
    "             dbc.Button('- Layer',id='button_subtract',className=\"me-md-1\"),\n",
    "             dbc.Button('Solve',id='button_solve',className=\"col-8 mx-auto\",color='secondary'),\n",
    "             dash_table.DataTable(\n",
    "                 data = [],\n",
    "                 columns = [{'name':'Material','id':'Material'},\n",
    "                            {'name':'Thickness [nm]','id':'Thickness [nm]'},\n",
    "                            {'name':'Photovoltaic','id':'Photovoltaic'}],\n",
    "                 id = 'layer_table',\n",
    "             ),\n",
    "            \n",
    "        ],\n",
    "        style = {'float':'left','width':'45%','border-right-style':'solid'},\n",
    "    ),\n",
    "    \n",
    "    html.Div(\n",
    "        children=[\n",
    "            dbc.Tabs(\n",
    "            [\n",
    "                dbc.Tab(label=\"A, R, T\", tab_id=\"tab-1\",tab_style={\"marginLeft\": \"auto\"}),\n",
    "                dbc.Tab(label=\"Metrics\", tab_id=\"tab-2\"),\n",
    "            ],\n",
    "            id=\"tabs\",\n",
    "            active_tab=\"tab-1\",\n",
    "        ),\n",
    "        ],\n",
    "        style = {'float':'left','width':'55%'},\n",
    "    )\n",
    "    \n",
    "    ]\n",
    ")\n",
    "\n",
    "@app.callback(\n",
    "    Output('layer_table', 'data'),\n",
    "    Input('button_add', 'n_clicks'),\n",
    "    State('layer_table', 'data'),\n",
    "    State('layer_table', 'columns'))\n",
    "def add_row(n_clicks, rows, columns):\n",
    "    print('+ Layer clicked!')\n",
    "    if n_clicks > 0:\n",
    "        rows.append({c['id']: '' for c in columns})\n",
    "    return rows\n",
    "\n",
    "\n",
    "app.run_server(mode = 'inline',debug=True)"
   ]
  },
  {
   "cell_type": "code",
   "execution_count": null,
   "id": "f9e41a6e-3076-4439-9813-8a23f02b7e51",
   "metadata": {},
   "outputs": [],
   "source": []
  },
  {
   "cell_type": "code",
   "execution_count": null,
   "id": "40b384f9-9f93-4a78-8696-c65a601bed70",
   "metadata": {},
   "outputs": [],
   "source": []
  }
 ],
 "metadata": {
  "kernelspec": {
   "display_name": "Python 3 (ipykernel)",
   "language": "python",
   "name": "python3"
  },
  "language_info": {
   "codemirror_mode": {
    "name": "ipython",
    "version": 3
   },
   "file_extension": ".py",
   "mimetype": "text/x-python",
   "name": "python",
   "nbconvert_exporter": "python",
   "pygments_lexer": "ipython3",
   "version": "3.8.11"
  }
 },
 "nbformat": 4,
 "nbformat_minor": 5
}
