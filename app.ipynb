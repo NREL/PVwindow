{
 "cells": [
  {
   "cell_type": "code",
   "execution_count": 104,
   "id": "097d6073",
   "metadata": {},
   "outputs": [],
   "source": [
    "from jupyter_dash import JupyterDash\n",
    "from dash import html, dcc, Input, Output, State\n",
    "from dash import dash_table, callback_context\n",
    "#from dash.dependencies import Input, Output\n",
    "#import dash_html_components as html\n",
    "#import dash_core_components as dcc\n",
    "import dash_bootstrap_components as dbc\n",
    "#from dash.dash_table.Format import Group\n",
    "#import dash_table\n",
    "import pandas as pd\n",
    "import plotly.graph_objects as go\n",
    "import wpv\n",
    "#import plotly.express as px\n",
    "\n",
    "#print([{\"name\": i, \"id\": i} for i in df.columns])\n",
    "\n",
    "#JupyterDash.infer_jupyter_proxy_config()"
   ]
  },
  {
   "cell_type": "code",
   "execution_count": 108,
   "id": "497319a1",
   "metadata": {},
   "outputs": [
    {
     "data": {
      "text/html": [
       "\n",
       "        <iframe\n",
       "            width=\"100%\"\n",
       "            height=\"650\"\n",
       "            src=\"http://127.0.0.1:8050/\"\n",
       "            frameborder=\"0\"\n",
       "            allowfullscreen\n",
       "        ></iframe>\n",
       "        "
      ],
      "text/plain": [
       "<IPython.lib.display.IFrame at 0x141032cd0>"
      ]
     },
     "metadata": {},
     "output_type": "display_data"
    },
    {
     "data": {
      "text/plain": [
       "{'Material': {'options': [{'label': 'a', 'value': 'a'},\n",
       "   {'label': 'b', 'value': 'b'},\n",
       "   {'label': 'c', 'value': 'c'}]},\n",
       " 'PV': {'options': [{'label': 'Yes', 'value': True},\n",
       "   {'label': 'No', 'value': False}]}}"
      ]
     },
     "metadata": {},
     "output_type": "display_data"
    },
    {
     "data": {
      "text/plain": [
       "{'Material': {'options': [{'label': 'a', 'value': 'a'},\n",
       "   {'label': 'b', 'value': 'b'},\n",
       "   {'label': 'c', 'value': 'c'}]},\n",
       " 'PV': {'options': [{'label': 'Yes', 'value': True},\n",
       "   {'label': 'No', 'value': False}]}}"
      ]
     },
     "metadata": {},
     "output_type": "display_data"
    },
    {
     "data": {
      "text/plain": [
       "{'Material': {'options': [{'label': 'a', 'value': 'a'},\n",
       "   {'label': 'b', 'value': 'b'},\n",
       "   {'label': 'c', 'value': 'c'}]},\n",
       " 'PV': {'options': [{'label': 'Yes', 'value': True},\n",
       "   {'label': 'No', 'value': False}]}}"
      ]
     },
     "metadata": {},
     "output_type": "display_data"
    }
   ],
   "source": [
    "#app = Dash(external_stylesheets=[dbc.themes.BOOTSTRAP])\n",
    "app = JupyterDash(__name__,external_stylesheets=[dbc.themes.JOURNAL])\n",
    "#app = JupyterDash(__name__,external_stylesheets=[dbc.themes.SANDSTONE])\n",
    "\n",
    "# Create server variable with Flask server object for use with gunicorn\n",
    "server = app.server\n",
    "\n",
    "#ART_fig = \n",
    "\n",
    "\n",
    "\n",
    "\n",
    "app.layout = dbc.Container([\n",
    "    dbc.Container([\n",
    "        html.H4('PVwindow',className='display-4'),\n",
    "        html.P(\n",
    "                \"A tool for analyzing semi-transparent photovoltaic devices\",\n",
    "                className=\"\",\n",
    "        ),\n",
    "        html.Hr(className=\"my-2\"),\n",
    "    ]),\n",
    "            \n",
    "    dbc.Container(\n",
    "        [\n",
    "             \n",
    "             html.H6('Device Configuration',className='display-6'),#,class_name=\"me-md-1\"\n",
    "             html.Span('Layer:',style={'display':'inline-block','font-size':'22px','width':'20%','height':'36px',\"verticalAlign\": \"center\",'text-align':'center'}),\n",
    "                 dbc.Button('+',color=\"primary\",id='button_add',style={'width':'20%','height':'36px'},n_clicks=0),\n",
    "             dbc.ButtonGroup([\n",
    "                 dbc.Button('↑',outline=True,color=\"primary\",id='button_up',n_clicks=0),\n",
    "                 dbc.Button('↓',outline=True,color=\"primary\",id='button_down',n_clicks=0),\n",
    "             ],\n",
    "             style={'width':'40%','height':'36px'}\n",
    "             ),\n",
    "             html.Br(),\n",
    "             dbc.Button('Solve',id='button_solve',class_name='d-grid col-6 mx-auto',color='secondary',n_clicks=0),#style={'width':'60%'}\n",
    "             html.Br(),\n",
    "             dash_table.DataTable(\n",
    "                 columns = [{'name':'Material','id':'Material','presentation': 'dropdown'},\n",
    "                            {'name':'Thickness [nm]','id':'Thickness [nm]','presentation': 'input'},\n",
    "                            {'name':'PV','id':'PV','presentation': 'dropdown'}],\n",
    "                 data=[{'Material':'a',\n",
    "                       'Thickness [nm]':100,\n",
    "                       'PV':False}],\n",
    "                 id = 'layer_table',\n",
    "                 editable=True,\n",
    "                 row_selectable='single',\n",
    "                 row_deletable=True,\n",
    "                 style_as_list_view=True,\n",
    "                 style_header={'text-align':'left'},\n",
    "                 style_data={'text-align':'left'},\n",
    "                 dropdown={\n",
    "                    'Material': {\n",
    "                        'options': [\n",
    "                            {'label': i, 'value': i}\n",
    "                            for i in ['a','b','c']\n",
    "                        ]\n",
    "                    },\n",
    "                    'PV': {\n",
    "                         'options': [\n",
    "                            {'label': 'Yes', 'value': True},\n",
    "                            {'label': 'No', 'value': False}\n",
    "                        ]\n",
    "                    }\n",
    "                },\n",
    "                #workaround so bootstrap formatting works with dropdowns... see https://github.com/plotly/dash-table/issues/221\n",
    "                css=[{\"selector\": \".Select-menu-outer\", \"rule\": \"display: block !important\"}],\n",
    "                 \n",
    "             ),\n",
    "            \n",
    "        ],\n",
    "        style = {'float':'left','width':'50%','border-right-style':'none','border-width':'thin'},\n",
    "    ),\n",
    "    \n",
    "    dbc.Container(\n",
    "        [\n",
    "            html.H6('Device Analysis',className='display-6'),\n",
    "            dbc.Tabs(\n",
    "            [\n",
    "                dbc.Tab(label=\"A, R, T\", tab_id=\"tab-1\",tab_style={\"marginLeft\": \"auto\"}),\n",
    "                dbc.Tab(label=\"Metrics\", tab_id=\"tab-2\"),\n",
    "            ],\n",
    "            id=\"tabs\",\n",
    "            active_tab=\"tab-1\",\n",
    "        ),\n",
    "        ],\n",
    "        style = {'float':'left','width':'50%'},\n",
    "    )\n",
    "    \n",
    "    ],\n",
    "    #fluid=True,\n",
    ")\n",
    "\n",
    "\n",
    "\n",
    "@app.callback(\n",
    "    Output('layer_table', 'data'),\n",
    "    Input('button_add', 'n_clicks'),\n",
    "    Input('button_up','n_clicks'),\n",
    "    Input('button_down','n_clicks'),\n",
    "    Input('button_solve','n_clicks'),\n",
    "    State('layer_table', 'data'),\n",
    "    State('layer_table', 'columns'),\n",
    "    State('layer_table', 'dropdown'),\n",
    "    State('layer_table', 'selected_rows')\n",
    ")\n",
    "def add_row(n_clicks_add, n_clicks_up, n_clicks_down, n_clicks_solve, data, columns, ddown, srows):\n",
    "    ctx = callback_context\n",
    "    button_id = ctx.triggered[0]['prop_id'].split('.')[0]\n",
    "    #print('button id: ' + str(button_id))\n",
    "    display(ddown)\n",
    "    #x = {c['id']: '' for c in columns}\n",
    "    #print('x=' + str(x))\n",
    "    \n",
    "    if n_clicks_add > 0:\n",
    "        if button_id == 'button_add':\n",
    "            data.append({c['id']: '' for c in columns})\n",
    "    \n",
    "    if n_clicks_up > 0:\n",
    "        if button_id == 'button_up':\n",
    "            print('moving row up')\n",
    "    #print(data)\n",
    "    return data\n",
    "\n",
    "\n",
    "if __name__ == '__main__':\n",
    "    app.run_server(debug=True,mode='inline')"
   ]
  },
  {
   "cell_type": "code",
   "execution_count": null,
   "id": "f9e41a6e-3076-4439-9813-8a23f02b7e51",
   "metadata": {},
   "outputs": [],
   "source": []
  }
 ],
 "metadata": {
  "kernelspec": {
   "display_name": "Python 3 (ipykernel)",
   "language": "python",
   "name": "python3"
  },
  "language_info": {
   "codemirror_mode": {
    "name": "ipython",
    "version": 3
   },
   "file_extension": ".py",
   "mimetype": "text/x-python",
   "name": "python",
   "nbconvert_exporter": "python",
   "pygments_lexer": "ipython3",
   "version": "3.8.11"
  }
 },
 "nbformat": 4,
 "nbformat_minor": 5
}
